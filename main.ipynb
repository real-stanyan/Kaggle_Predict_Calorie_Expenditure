{
 "cells": [
  {
   "cell_type": "code",
   "execution_count": 1,
   "id": "6bfe9b7e",
   "metadata": {},
   "outputs": [],
   "source": [
    "import torch\n",
    "from torch.utils.data import TensorDataset, DataLoader\n",
    "from sklearn.preprocessing import MinMaxScaler\n",
    "import matplotlib.pyplot as plt\n",
    "import torch.nn as nn\n",
    "import torch.optim as optim\n",
    "import pandas as pd\n",
    "import numpy as np\n",
    "import time\n",
    "import os\n",
    "import joblib\n",
    "import torch.nn.functional as F\n",
    "\n",
    "\n",
    "# 创建模型保存目录\n",
    "os.makedirs(\"model\", exist_ok=True)"
   ]
  },
  {
   "cell_type": "code",
   "execution_count": 2,
   "id": "c66c64f6",
   "metadata": {},
   "outputs": [],
   "source": [
    "# 自定义 RMSLE 损失函数\n",
    "class RMSLELoss(nn.Module):\n",
    "    def __init__(self):\n",
    "        super().__init__()\n",
    "\n",
    "    def forward(self, y_pred, y_true):\n",
    "        y_pred = torch.clamp(y_pred, min=0)\n",
    "        log_pred = torch.log1p(y_pred)\n",
    "        log_true = torch.log1p(y_true)\n",
    "        return torch.sqrt(torch.mean((log_pred - log_true) ** 2))"
   ]
  },
  {
   "cell_type": "code",
   "execution_count": 3,
   "id": "286c5b9e",
   "metadata": {},
   "outputs": [],
   "source": [
    "def load_train_dataset(file_path, save_scaler_path='model/scaler.pkl'):\n",
    "    df = pd.read_csv(file_path)\n",
    "    df = df.dropna()\n",
    "    df = df.drop(columns=['id'])\n",
    "    df['Sex'] = df['Sex'].map({'male': 1, 'female': 0})\n",
    "\n",
    "    x = df.iloc[:, :-1]\n",
    "    y = df.iloc[:, -1]\n",
    "\n",
    "    scaler = MinMaxScaler()\n",
    "    x_scaled = scaler.fit_transform(x)\n",
    "    joblib.dump(scaler, save_scaler_path)\n",
    "\n",
    "    x_scaled = x_scaled.astype(np.float32)\n",
    "    y = y.astype(np.float32)\n",
    "\n",
    "    dataset = TensorDataset(torch.tensor(x_scaled), torch.tensor(y.values))\n",
    "    return dataset, x.shape[1]\n",
    "\n",
    "def load_test_dataset(file_path, scaler_path='model/scaler.pkl'):\n",
    "    df = pd.read_csv(file_path)\n",
    "    df = df.dropna()\n",
    "    df = df.drop(columns=['id'])\n",
    "    df['Sex'] = df['Sex'].map({'male': 1, 'female': 0})\n",
    "\n",
    "    x = df.iloc[:, :]\n",
    "    y = df.iloc[:, -1] if 'Price' in df.columns else pd.Series([0]*len(x))\n",
    "    scaler = joblib.load(scaler_path)\n",
    "    x_scaled = scaler.transform(x)\n",
    "\n",
    "    x_scaled = x_scaled.astype(np.float32)\n",
    "    y = y.astype(np.float32)\n",
    "\n",
    "    dataset = TensorDataset(torch.tensor(x_scaled), torch.tensor(y.values))\n",
    "    return dataset, x.shape[1]"
   ]
  },
  {
   "cell_type": "code",
   "execution_count": 4,
   "id": "2534aa3c",
   "metadata": {},
   "outputs": [],
   "source": [
    "class Model(nn.Module):\n",
    "    def __init__(self, dim):\n",
    "        super().__init__()\n",
    "        self.fc1 = nn.Linear(dim, 64)         # 增大第一层宽度\n",
    "        self.bn1 = nn.BatchNorm1d(64)         # 批标准化，稳定训练\n",
    "        self.dropout1 = nn.Dropout(0.2)       # 防止过拟合\n",
    "\n",
    "        self.fc2 = nn.Linear(64, 32)\n",
    "        self.bn2 = nn.BatchNorm1d(32)\n",
    "        self.dropout2 = nn.Dropout(0.2)\n",
    "\n",
    "        self.output = nn.Linear(32, 1)\n",
    "\n",
    "    def forward(self, x):\n",
    "        x = F.leaky_relu(self.bn1(self.fc1(x)), negative_slope=0.01)\n",
    "        x = self.dropout1(x)\n",
    "        x = F.leaky_relu(self.bn2(self.fc2(x)), negative_slope=0.01)\n",
    "        x = self.dropout2(x)\n",
    "        return self.output(x)\n"
   ]
  },
  {
   "cell_type": "code",
   "execution_count": 5,
   "id": "1cad0d58",
   "metadata": {},
   "outputs": [],
   "source": [
    "# 训练模型\n",
    "def train(train_dataset, dim, num_epoch):\n",
    "    dataloader = DataLoader(train_dataset, batch_size=8, shuffle=True)\n",
    "    model = Model(dim)\n",
    "    criterion = RMSLELoss()\n",
    "    optimizer = optim.AdamW(model.parameters(), lr=1e-3)\n",
    "\n",
    "    scheduler = torch.optim.lr_scheduler.ReduceLROnPlateau(\n",
    "        optimizer, mode='min', factor=0.5, patience=15, verbose=True\n",
    "    )\n",
    "\n",
    "    epoch_losses = []\n",
    "\n",
    "    for epoch in range(num_epoch):\n",
    "        model.train()\n",
    "        total_loss = 0.0\n",
    "        batch_num = 0\n",
    "        start_time = time.time()\n",
    "\n",
    "        for x, y in dataloader:\n",
    "            y = y.unsqueeze(1)\n",
    "            pred = model(x)\n",
    "            loss = criterion(pred, y)\n",
    "\n",
    "            optimizer.zero_grad()\n",
    "            loss.backward()\n",
    "            optimizer.step()\n",
    "\n",
    "            total_loss += loss.item()\n",
    "            batch_num += 1\n",
    "        # 动态调整学习率\n",
    "        scheduler.step(loss)\n",
    "        avg_loss = total_loss / batch_num\n",
    "        epoch_losses.append(avg_loss)\n",
    "        print(f\"Epoch {epoch+1}, Loss: {avg_loss:.4f}, Time: {time.time() - start_time:.2f}s\")\n",
    "\n",
    "    # 保存模型\n",
    "    torch.save(model.state_dict(), 'model/model.pth')\n",
    "    print(\"模型已保存到 model/model.pth\")\n",
    "\n",
    "    # 绘制 loss 曲线\n",
    "    plt.figure(figsize=(8, 5))\n",
    "    plt.plot(range(1, num_epoch + 1), epoch_losses, marker='o')\n",
    "    plt.title('Training Loss Curve')\n",
    "    plt.xlabel('Epoch')\n",
    "    plt.ylabel('RMSLE Loss')\n",
    "    plt.grid(True)\n",
    "    plt.savefig('model/loss_curve.png')\n",
    "    plt.show()\n",
    "\n",
    "\n",
    "# 测试模型\n",
    "def test(test_dataset, dim):\n",
    "    dataloader = DataLoader(test_dataset, batch_size=8, shuffle=False)\n",
    "    model = Model(dim)\n",
    "    model.load_state_dict(torch.load('model/model.pth'))\n",
    "    model.eval()\n",
    "\n",
    "    predictions = []\n",
    "    with torch.no_grad():\n",
    "        for x, _ in dataloader:\n",
    "            y_pred = model(x)\n",
    "            predictions.extend(y_pred.squeeze().tolist())\n",
    "\n",
    "    print(\"测试集预测完成，前10个结果：\", predictions[:10])\n",
    "    return predictions\n"
   ]
  },
  {
   "cell_type": "code",
   "execution_count": 6,
   "id": "c6e60017",
   "metadata": {},
   "outputs": [
    {
     "name": "stderr",
     "output_type": "stream",
     "text": [
      "/Users/stanyan/.pyenv/versions/3.12.0/lib/python3.12/site-packages/torch/optim/lr_scheduler.py:62: UserWarning: The verbose parameter is deprecated. Please use get_last_lr() to access the learning rate.\n",
      "  warnings.warn(\n"
     ]
    },
    {
     "name": "stdout",
     "output_type": "stream",
     "text": [
      "Epoch 1, Loss: 0.3245, Time: 48.92s\n",
      "Epoch 2, Loss: 0.2878, Time: 46.67s\n",
      "Epoch 3, Loss: 0.2873, Time: 46.86s\n",
      "Epoch 4, Loss: 0.2863, Time: 57.39s\n",
      "Epoch 5, Loss: 0.2861, Time: 52.06s\n",
      "Epoch 6, Loss: 0.2855, Time: 56.82s\n",
      "Epoch 7, Loss: 0.2860, Time: 65.73s\n",
      "Epoch 8, Loss: 0.2856, Time: 48.88s\n",
      "Epoch 9, Loss: 0.2864, Time: 49.17s\n",
      "Epoch 10, Loss: 0.2860, Time: 46.28s\n",
      "模型已保存到 model/model.pth\n"
     ]
    },
    {
     "data": {
      "image/png": "[encoded data removed]",
      "text/plain": [
       "<Figure size 800x500 with 1 Axes>"
      ]
     },
     "metadata": {},
     "output_type": "display_data"
    },
    {
     "name": "stdout",
     "output_type": "stream",
     "text": [
      "测试集预测完成，前10个结果： [26.73310089111328, 96.3408432006836, 81.95387268066406, 115.31420135498047, 70.97073364257812, 18.701309204101562, 46.512184143066406, 7.978865146636963, 7.9970502853393555, 200.14306640625]\n"
     ]
    }
   ],
   "source": [
    "# 主程序\n",
    "if __name__ == '__main__':\n",
    "    train_dataset, dim = load_train_dataset('data/train.csv')\n",
    "    test_dataset, _ = load_test_dataset('data/test.csv')\n",
    "    \n",
    "    train(train_dataset, dim, num_epoch=10)\n",
    "    test(test_dataset, dim)"
   ]
  }
 ],
 "metadata": {
  "kernelspec": {
   "display_name": "Python 3",
   "language": "python",
   "name": "python3"
  },
  "language_info": {
   "codemirror_mode": {
    "name": "ipython",
    "version": 3
   },
   "file_extension": ".py",
   "mimetype": "text/x-python",
   "name": "python",
   "nbconvert_exporter": "python",
   "pygments_lexer": "ipython3",
   "version": "3.12.0"
  }
 },
 "nbformat": 4,
 "nbformat_minor": 5
}
